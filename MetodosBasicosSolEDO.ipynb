{
  "nbformat": 4,
  "nbformat_minor": 0,
  "metadata": {
    "colab": {
      "provenance": [],
      "collapsed_sections": [],
      "authorship_tag": "ABX9TyOutnFEKMRwddaIDPjgNw8x",
      "include_colab_link": true
    },
    "kernelspec": {
      "name": "python3",
      "display_name": "Python 3"
    },
    "language_info": {
      "name": "python"
    }
  },
  "cells": [
    {
      "cell_type": "markdown",
      "metadata": {
        "id": "view-in-github",
        "colab_type": "text"
      },
      "source": [
        "<a href=\"https://colab.research.google.com/github/GhosthoundMX30/Codigos-SNEDP/blob/main/MetodosBasicosSolEDO.ipynb\" target=\"_parent\"><img src=\"https://colab.research.google.com/assets/colab-badge.svg\" alt=\"Open In Colab\"/></a>"
      ]
    },
    {
      "cell_type": "markdown",
      "source": [
        "## Métodos numéricos para la solución de (problema de valor inicial) PVI.\n",
        "\n",
        "El problema de valor inicial toma la forma:\n",
        "\n",
        "$$\n",
        "u'(t) = f(u(t),t)\\quad \\text{para }t>t_0\n",
        "$$\n",
        "\n",
        "con la condición inicial\n",
        "\n",
        "$$\n",
        "u(t_{0}) = \\eta.\n",
        "$$\n",
        "\n",
        "Con frecuencia se supone por simplicidad que $t_{0} = 0$.\n",
        "\n",
        "### Algunos métodos numéricos básicos.\n",
        "\n",
        "Tenemos las condiciones iniciales\n",
        "\n",
        "$$\n",
        "U^{0} = \\eta\n",
        "$$\n",
        "\n",
        "y queremos calcular las aproximaciones $U^{1}$, $U^{2}$, $\\ldots$, de tal manera que\n",
        "\n",
        "$$\n",
        "U^{n}\\approx u(t_{n}).\n",
        "$$"
      ],
      "metadata": {
        "id": "CVFO-QBozihF"
      }
    },
    {
      "cell_type": "code",
      "source": [
        "# Modulos\n",
        "import numpy as np\n",
        "import sympy as sp\n",
        "from scipy.optimize import fsolve\n",
        "\n",
        "def f_conv(f_str,var = 'x',tipo = 'numpy'):\n",
        "    '''Regresa una función lambda que representa una función matemática f(x).\n",
        "    \n",
        "    * Entrada\n",
        "        * f_str (str): Cadena con la expresión de una función.\n",
        "        * var (str): Varible independiente.\n",
        "        * tipo (str): Compatibilidad. Ver documentación de lambdify en sympy.        \n",
        "    * Salida\n",
        "        * (function): Función de python.        \n",
        "    * Dependencias\n",
        "        * sympy (module).\n",
        "    '''\n",
        "    return sp.lambdify(sp.symbols(var),sp.sympify(f_str),tipo)"
      ],
      "metadata": {
        "id": "pRcsuS-6320a"
      },
      "execution_count": 1,
      "outputs": []
    },
    {
      "cell_type": "markdown",
      "source": [
        "#### Método de Euler (forward Euler)\n",
        "\n",
        "El **método de Euler** está dado por:\n",
        "\n",
        "$$\n",
        "\\dfrac{U^{n+1}-U^{n}}{k} = f(U^{n})\n",
        "$$\n",
        "\n",
        "o \n",
        "\n",
        "$$\n",
        "U^{n+1} = U^{n} + kf(U^{n}).\n",
        "$$\n"
      ],
      "metadata": {
        "id": "f-1qu1AL0L93"
      }
    },
    {
      "cell_type": "code",
      "execution_count": 2,
      "metadata": {
        "id": "cv7duIv73Dwu"
      },
      "outputs": [],
      "source": [
        "def forwardEuler(f,t0,U0,k = 0.1,M = 10):\n",
        "    \"\"\"Implementa el método de Euler para resolver la EDO de primer orden \n",
        "    u'(t) = f(u(t),t) con condición inicial u(t0) = U0. \n",
        "    \n",
        "    * Entrada\n",
        "        * f (function): Lado derecho de la ecuación. f = f(u(t),t).\n",
        "        * t0 (float): Tiempo inicial.\n",
        "        * U0 (float): Condición inicial. U0 = u(t0).\n",
        "        * k (float): Tamaño de paso de tiempo.\n",
        "        * M (int): Número de iteraciones\n",
        "    * Salida\n",
        "        * (ndarray): Valores para el tiempo t_i.\n",
        "        * (ndarray): Aproximaciones de de la solución al tiempo t_i.\n",
        "    * Dependencias\n",
        "        * numpy (module).\n",
        "    \"\"\"\n",
        "    U,t = [U0],[t0]\n",
        "    for i in range(M):\n",
        "        t.append(t[i] + k)\n",
        "        U.append(U[i] + k*f(U[i],t[i]))\n",
        "    return np.array(t,float),np.array(U,float)"
      ]
    },
    {
      "cell_type": "markdown",
      "source": [
        "#### Método de Euler hacia atrás (backward Euler)\n",
        "\n",
        "El método de **Euler hacia atrás**,\n",
        "\n",
        "$$\n",
        "\\dfrac{U^{n+1} - U^{n}}{k} = f(U^{n+1})\n",
        "$$\n",
        "\n",
        "o\n",
        "\n",
        "$$\n",
        "U^{n+1} = U^{n} + kf(U^{n+1})\n",
        "$$"
      ],
      "metadata": {
        "id": "CKWriAhc0l_X"
      }
    },
    {
      "cell_type": "code",
      "source": [
        "def backwardEuler(f,t0,U0,k = 0.1,M = 10):\n",
        "    \"\"\"Implementa el método de Euler hacia atrás para resolver la EDO de primer\n",
        "    orden u'(t) = f(u(t),t) con condición inicial u(t0) = U0. \n",
        "    \n",
        "    * Entrada\n",
        "        * f (function): Lado derecho de la ecuación. f = f(u(t),t).\n",
        "        * t0 (float): Tiempo inicial.\n",
        "        * U0 (float): Condición inicial. U0 = U(t0).\n",
        "        * k (float): Tamaño de paso de tiempo.\n",
        "        * M (int): Número de iteraciones\n",
        "    * Salida\n",
        "        * (ndarray): Valores para el tiempo t_i.\n",
        "        * (ndarray): Aproximaciones de de la solución al tiempo t_i.\n",
        "    * Dependencias\n",
        "        * numpy (module),  fsolve(function - module:scipy.optimize).\n",
        "    \"\"\"\n",
        "    U,t = [U0],[t0]\n",
        "    for i in range(M):\n",
        "        t.append(t[i] + k) \n",
        "        U.append(fsolve(lambda u : u - U[i] - k*f(u,t[i+1]),U0)[0])\n",
        "    return np.array(t,float),np.array(U,float)"
      ],
      "metadata": {
        "id": "v1Jwlf1y0ljz"
      },
      "execution_count": 3,
      "outputs": []
    },
    {
      "cell_type": "markdown",
      "source": [
        "#### Método de trapezoidal (trapezoidal method)\n",
        "\n",
        "El **método trapezoidal** está dado por:\n",
        "\n",
        "$$\n",
        "\\dfrac{U^{n+1} - U^{n}}{k} = \\dfrac{1}{2}(f(U^{n+1}) + f(U^{n}))\n",
        "$$\n",
        "\n",
        "o\n",
        "\n",
        "$$\n",
        "U^{n+1} = U^{n} + \\dfrac{k}{2}(f(U^{n+1}) + f(U^{n}))\n",
        "$$"
      ],
      "metadata": {
        "id": "7UHqzmxh1Asu"
      }
    },
    {
      "cell_type": "code",
      "source": [
        "def trapezoidal(f,t0,U0,k = 0.1,M = 10):\n",
        "    \"\"\"Implementa el método trapezoidal para resolver la EDO de primer orden \n",
        "    u'(t) = f(u(t),t) con condición inicial u(t0) = U0. \n",
        "    \n",
        "    * Entrada\n",
        "        * f (function): Lado derecho de la ecuación. f = f(u(t),t).\n",
        "        * t0 (float): Tiempo inicial.\n",
        "        * U0 (float): Condición inicial. U0 = U(t0).\n",
        "        * k (float): Tamaño de paso de tiempo.\n",
        "        * M (int): Número de iteraciones\n",
        "    * Salida\n",
        "        * (ndarray): Valores para el tiempo t_i.\n",
        "        * (ndarray): Aproximaciones de de la solución al tiempo t_i.\n",
        "    * Dependencias\n",
        "        * numpy (module), fsolve(function - module:scipy.optimize).\n",
        "    \"\"\"\n",
        "    U,t = [U0],[t0]\n",
        "    for i in range(M):\n",
        "        t.append(t[i] + k) \n",
        "        U.append(fsolve(lambda u : u - U[i] - k/2.*(f(U[i],t[i]) + f(u,t[i+1])),\n",
        "                        U0)[0])\n",
        "    return np.array(t,float),np.array(U,float)"
      ],
      "metadata": {
        "id": "7bc615GV1A5f"
      },
      "execution_count": 4,
      "outputs": []
    },
    {
      "cell_type": "markdown",
      "source": [
        "#### Método del punto medio (midpoint method)\n",
        "\n",
        "El **método del punto medio** (o *método Leapfrog*) está dado por:\n",
        "\n",
        "$$\n",
        "\\dfrac{U^{n+1} - U^{n-1}}{2k} = f(U^{n})\n",
        "$$\n",
        "\n",
        "o\n",
        "\n",
        "$$\n",
        "U^{n+1} = U^{n-1} + 2kf(U^{n})\n",
        "$$"
      ],
      "metadata": {
        "id": "1ch-kEIi1n7e"
      }
    },
    {
      "cell_type": "code",
      "source": [
        "\n",
        "\n",
        "def midpoint(f,t0,U0,k = 0.1,M = 10):\n",
        "    \"\"\"Implementa el método del punto medio para resolver la EDO de primer orden \n",
        "    u'(t) = f(u(t),t) con condición inicial u(t0) = U0. \n",
        "    \n",
        "    * Entrada\n",
        "        * f (function): Lado derecho de la ecuación. f = f(u(t),t).\n",
        "        * t0 (float): Tiempo inicial.\n",
        "        * U0 (float): Condición inicial. U0 = u(t0).\n",
        "        * k (float): Tamaño de paso de tiempo.\n",
        "        * M (int): Número de iteraciones\n",
        "    * Salida\n",
        "        * (ndarray): Valores para el tiempo t_i.\n",
        "        * (ndarray): Aproximaciones de de la solución al tiempo t_i.\n",
        "    * Dependencias\n",
        "        * numpy (module), trapezoidal(function).\n",
        "    \"\"\"\n",
        "    t0,U0,k = [float(x) for x in [t0,U0,k]]\n",
        "    U,t = [U0,trapezoidal(f,t0,U0,k,1)[-1][-1]],[t0,t0+k]\n",
        "    for i in range(1,M):\n",
        "        t.append(t[i] + k)\n",
        "        U.append(U[i-1] + 2.*k*f(U[i],t[i]))\n",
        "    return np.array(t,float),np.array(U,float)"
      ],
      "metadata": {
        "id": "Ksiyew1l0daV"
      },
      "execution_count": 5,
      "outputs": []
    },
    {
      "cell_type": "markdown",
      "source": [
        "#### Ejemplo\n",
        "\n",
        "Consideramos el siguiente PVI\n",
        "\n",
        "$$\n",
        "\tu'(t) = \\dfrac{2}{t}u(t) + t^{2}e^{t}\n",
        "$$\n",
        "\n",
        "con la condición inicial\n",
        "\n",
        "$$\n",
        "  u(1) = 0\n",
        "$$\n",
        "\n",
        "Cuya solución exacta está dada por:\n",
        "\n",
        "$$\n",
        "u(t) = t^{2}(e^{t} - e).\n",
        "$$\n",
        "\n",
        "Analizamos el comportamiento de los diferentes métodos para resolver este problema."
      ],
      "metadata": {
        "id": "0i4pZHAf2Kjb"
      }
    },
    {
      "cell_type": "code",
      "source": [
        "from tabulate import tabulate\n",
        "import matplotlib.pyplot as plt\n",
        "\n",
        "#Datos\n",
        "f_str = '2/t*u + t**2*exp(t)'\n",
        "f = f_conv(f_str,('u t'))\n",
        "u_exct = f_conv('t**2*(exp(t) - exp(1))',('t'))\n",
        "t0 = 1.\n",
        "U0 = 0.\n",
        "k = 0.05\n",
        "M = 20\n",
        "fmt = 'fancy_grid'\n",
        "\n",
        "metodos = {'Forward Euler':forwardEuler,\n",
        "           'Backward Euler':backwardEuler,\n",
        "           'Trapezoidal':trapezoidal,\n",
        "           'Punto medio':midpoint}\n",
        "\n",
        "#Resultados\n",
        "T = np.empty((M+1,len(metodos) + 3),float)\n",
        "T[:,0] = np.arange(M+1)\n",
        "T[:,1] = np.arange(t0,t0 + (M+1)*k,k)\n",
        "T[:,2] = u_exct(T[:,1])\n",
        "\n",
        "#Gráfica de la solución exacta\n",
        "fig = plt.figure(figsize=(15,10))\n",
        "plt.plot(T[:,1],T[:,2],label = 'Sol. exacta',color = 'crimson')\n",
        "\n",
        "hdr = ['\\ni','\\nt_i','<Sol. exacta>\\nu(t_i)']\n",
        "fmtTabla = ['g','g','.6g']\n",
        "\n",
        "#Calculamos las soluciones y creamos sus gráficas\n",
        "i = 3\n",
        "for met in metodos.keys():\n",
        "  sol = metodos[met](f,t0,U0,k,M)[1]\n",
        "  T[:,i] = np.fabs(T[:,2] - sol)\n",
        "  hdr.append(f'<{met}>\\n|u(t_i) - U^i|')\n",
        "  fmtTabla.append('.6e')\n",
        "  plt.plot(T[:,1],sol,'-o',label = met)\n",
        "  i += 1  \n",
        "\n",
        "# Imprimimos la tabla de resultados con los errores\n",
        "print(tabulate(T, headers=hdr,tablefmt=fmt, floatfmt = fmtTabla))\n",
        "\n",
        "#Grafica de comparación\n",
        "ax = plt.gca()\n",
        "ax.set_xlabel('$t$')\n",
        "ax.set_ylabel('$x(t)$')\n",
        "s = sp.latex(sp.sympify(f_str))\n",
        "ax.set_title(\"$x'(t) = \" + s + f\"\\quad x({t0}) = {U0}\\quad k={k}$\")\n",
        "ax.legend()\n",
        "plt.show()"
      ],
      "metadata": {
        "colab": {
          "base_uri": "https://localhost:8080/",
          "height": 1000
        },
        "id": "L7SwjD9s8HlK",
        "outputId": "c4b7f42c-2d1f-441c-bad3-e41f392eed01"
      },
      "execution_count": 6,
      "outputs": [
        {
          "output_type": "stream",
          "name": "stdout",
          "text": [
            "╒═════╤═══════╤═════════════════╤═══════════════════╤════════════════════╤══════════════════╤══════════════════╕\n",
            "│     │       │   <Sol. exacta> │   <Forward Euler> │   <Backward Euler> │    <Trapezoidal> │    <Punto medio> │\n",
            "│   i │   t_i │          u(t_i) │    |u(t_i) - U^i| │     |u(t_i) - U^i| │   |u(t_i) - U^i| │   |u(t_i) - U^i| │\n",
            "╞═════╪═══════╪═════════════════╪═══════════════════╪════════════════════╪══════════════════╪══════════════════╡\n",
            "│   0 │  1    │        0        │      0.000000e+00 │       0.000000e+00 │     0.000000e+00 │     0.000000e+00 │\n",
            "├─────┼───────┼─────────────────┼───────────────────┼────────────────────┼──────────────────┼──────────────────┤\n",
            "│   1 │  1.05 │        0.153655 │      1.774055e-02 │       2.045527e-02 │     4.024656e-04 │     4.024656e-04 │\n",
            "├─────┼───────┼─────────────────┼───────────────────┼────────────────────┼──────────────────┼──────────────────┤\n",
            "│   2 │  1.1  │        0.34592  │      3.953357e-02 │       4.552828e-02 │     8.768000e-04 │     1.519630e-03 │\n",
            "├─────┼───────┼─────────────────┼───────────────────┼────────────────────┼──────────────────┼──────────────────┤\n",
            "│   3 │  1.15 │        0.581782 │      6.579075e-02 │       7.567113e-02 │     1.428529e-03 │     1.602982e-03 │\n",
            "├─────┼───────┼─────────────────┼───────────────────┼────────────────────┼──────────────────┼──────────────────┤\n",
            "│   4 │  1.2  │        0.866643 │      9.694654e-02 │       1.113596e-01 │     2.063440e-03 │     3.670508e-03 │\n",
            "├─────┼───────┼─────────────────┼───────────────────┼────────────────────┼──────────────────┼──────────────────┤\n",
            "│   5 │  1.25 │        1.20635  │      1.334598e-01 │       1.530949e-01 │     2.787600e-03 │     4.240583e-03 │\n",
            "├─────┼───────┼─────────────────┼───────────────────┼────────────────────┼──────────────────┼──────────────────┤\n",
            "│   6 │  1.3  │        1.60722  │      1.758154e-01 │       2.014056e-01 │     3.607376e-03 │     6.540174e-03 │\n",
            "├─────┼───────┼─────────────────┼───────────────────┼────────────────────┼──────────────────┼──────────────────┤\n",
            "│   7 │  1.35 │        2.07609  │      2.245265e-01 │       2.568494e-01 │     4.529459e-03 │     7.615652e-03 │\n",
            "├─────┼───────┼─────────────────┼───────────────────┼────────────────────┼──────────────────┼──────────────────┤\n",
            "│   8 │  1.4  │        2.62036  │      2.801360e-01 │       3.200157e-01 │     5.560885e-03 │     1.022829e-02 │\n",
            "├─────┼───────┼─────────────────┼───────────────────┼────────────────────┼──────────────────┼──────────────────┤\n",
            "│   9 │  1.45 │        3.24801  │      3.432187e-01 │       3.915270e-01 │     6.709057e-03 │     1.184189e-02 │\n",
            "├─────┼───────┼─────────────────┼───────────────────┼────────────────────┼──────────────────┼──────────────────┤\n",
            "│  10 │  1.5  │        3.96767  │      4.143839e-01 │       4.720420e-01 │     7.981772e-03 │     1.484709e-02 │\n",
            "├─────┼───────┼─────────────────┼───────────────────┼────────────────────┼──────────────────┼──────────────────┤\n",
            "│  11 │  1.55 │        4.78864  │      4.942771e-01 │       5.622575e-01 │     9.387248e-03 │     1.704359e-02 │\n",
            "├─────┼───────┼─────────────────┼───────────────────┼────────────────────┼──────────────────┼──────────────────┤\n",
            "│  12 │  1.6  │        5.72096  │      5.835829e-01 │       6.629112e-01 │     1.093415e-02 │     2.052239e-02 │\n",
            "├─────┼───────┼─────────────────┼───────────────────┼────────────────────┼──────────────────┼──────────────────┤\n",
            "│  13 │  1.65 │        6.77548  │      6.830273e-01 │       7.747844e-01 │     1.263161e-02 │     2.335767e-02 │\n",
            "├─────┼───────┼─────────────────┼───────────────────┼────────────────────┼──────────────────┼──────────────────┤\n",
            "│  14 │  1.7  │        7.96387  │      7.933808e-01 │       8.987047e-01 │     1.448929e-02 │     2.739498e-02 │\n",
            "├─────┼───────┼─────────────────┼───────────────────┼────────────────────┼──────────────────┼──────────────────┤\n",
            "│  15 │  1.75 │        9.29873  │      9.154609e-01 │       1.035550e+00 │     1.651736e-02 │     3.093582e-02 │\n",
            "├─────┼───────┼─────────────────┼───────────────────┼────────────────────┼──────────────────┼──────────────────┤\n",
            "│  16 │  1.8  │       10.7936   │      1.050135e+00 │       1.186249e+00 │     1.872660e-02 │     3.562232e-02 │\n",
            "├─────┼───────┼─────────────────┼───────────────────┼────────────────────┼──────────────────┼──────────────────┤\n",
            "│  17 │  1.85 │       12.4632   │      1.198326e+00 │       1.351789e+00 │     2.112837e-02 │     3.994661e-02 │\n",
            "├─────┼───────┼─────────────────┼───────────────────┼────────────────────┼──────────────────┼──────────────────┤\n",
            "│  18 │  1.9  │       14.3231   │      1.361010e+00 │       1.533216e+00 │     2.373469e-02 │     4.538057e-02 │\n",
            "├─────┼───────┼─────────────────┼───────────────────┼────────────────────┼──────────────────┼──────────────────┤\n",
            "│  19 │  1.95 │       16.3903   │      1.539228e+00 │       1.731640e+00 │     2.655828e-02 │     5.057794e-02 │\n",
            "├─────┼───────┼─────────────────┼───────────────────┼────────────────────┼──────────────────┼──────────────────┤\n",
            "│  20 │  2    │       18.6831   │      1.734084e+00 │       1.948239e+00 │     2.961258e-02 │     5.686690e-02 │\n",
            "╘═════╧═══════╧═════════════════╧═══════════════════╧════════════════════╧══════════════════╧══════════════════╛\n"
          ]
        },
        {
          "output_type": "display_data",
          "data": {
            "text/plain": [
              "<Figure size 1080x720 with 1 Axes>"
            ],
            "image/png": "[encoded data removed]"
          },
          "metadata": {
            "needs_background": "light"
          }
        }
      ]
    }
  ]
}